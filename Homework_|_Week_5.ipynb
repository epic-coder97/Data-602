{
  "nbformat": 4,
  "nbformat_minor": 0,
  "metadata": {
    "colab": {
      "name": "Homework | Week 5.ipynb",
      "provenance": [],
      "mount_file_id": "120hFzX8WaPzBDVUoPQIhNk-nw_0cUXI-",
      "authorship_tag": "ABX9TyOukItto8KnSOUUqizw7JZL",
      "include_colab_link": true
    },
    "kernelspec": {
      "name": "python3",
      "display_name": "Python 3"
    },
    "language_info": {
      "name": "python"
    }
  },
  "cells": [
    {
      "cell_type": "markdown",
      "metadata": {
        "id": "view-in-github",
        "colab_type": "text"
      },
      "source": [
        "<a href=\"https://colab.research.google.com/github/epic-coder97/Data-602/blob/main/Homework_%7C_Week_5.ipynb\" target=\"_parent\"><img src=\"https://colab.research.google.com/assets/colab-badge.svg\" alt=\"Open In Colab\"/></a>"
      ]
    },
    {
      "cell_type": "markdown",
      "source": [
        "## Week 5 Homework Data 602\n",
        "*Nikita Dharmadhikari*\n",
        "\n",
        "\n",
        "---\n",
        "Step 1: \n",
        "- Import key libraries.\n",
        "- Use ‘matplotlib.rcParams.update({'font.size': 12})’.\n",
        "- Use the Boston dataset from sklearn.datasets.\n",
        "- Load the LinearRegression and Ridge libraries"
      ],
      "metadata": {
        "id": "HpJIw0FUecqS"
      }
    },
    {
      "cell_type": "code",
      "execution_count": 58,
      "metadata": {
        "id": "uV5qyJ2vkkhd"
      },
      "outputs": [],
      "source": [
        "import matplotlib.pyplot as plt\n",
        "plt.rcParams.update({'font.size': 22})\n",
        "from sklearn.datasets import load_boston\n",
        "from sklearn.linear_model import LinearRegression\n",
        "from sklearn.linear_model import Ridge\n",
        "import pandas as pd\n",
        "from sklearn.model_selection import train_test_split"
      ]
    },
    {
      "cell_type": "markdown",
      "source": [
        "Step 2 \n",
        "- Load the ‘mlb.csv’ dataset\n",
        "- Use salary as the target\n",
        "- Drop ‘League’, ‘Division’, and ‘NewLeage’ from the features."
      ],
      "metadata": {
        "id": "X-NXRby9iLKI"
      }
    },
    {
      "cell_type": "code",
      "source": [
        "data = pd.read_csv(\"/content/drive/MyDrive/DATA 602 Spring 2022/Data Files/mlb.csv\")\n",
        "data.shape"
      ],
      "metadata": {
        "colab": {
          "base_uri": "https://localhost:8080/"
        },
        "id": "49q0t16ulwFK",
        "outputId": "06018bf4-563f-44f3-a4b4-4f112b116505"
      },
      "execution_count": 59,
      "outputs": [
        {
          "output_type": "execute_result",
          "data": {
            "text/plain": [
              "(322, 20)"
            ]
          },
          "metadata": {},
          "execution_count": 59
        }
      ]
    },
    {
      "cell_type": "code",
      "source": [
        "data.drop(['Division', 'NewLeague', 'League'], axis=1, inplace=True)\n"
      ],
      "metadata": {
        "id": "AHZq3bs3xnep"
      },
      "execution_count": 60,
      "outputs": []
    },
    {
      "cell_type": "code",
      "source": [
        "data.columns"
      ],
      "metadata": {
        "colab": {
          "base_uri": "https://localhost:8080/"
        },
        "id": "qr3D9g0Ex2Rz",
        "outputId": "fb10e82b-d837-49b9-8132-36c648d82606"
      },
      "execution_count": 61,
      "outputs": [
        {
          "output_type": "execute_result",
          "data": {
            "text/plain": [
              "Index(['AtBat', 'Hits', 'HmRun', 'Runs', 'RBI', 'Walks', 'Years', 'CAtBat',\n",
              "       'CHits', 'CHmRun', 'CRuns', 'CRBI', 'CWalks', 'PutOuts', 'Assists',\n",
              "       'Errors', 'Salary'],\n",
              "      dtype='object')"
            ]
          },
          "metadata": {},
          "execution_count": 61
        }
      ]
    },
    {
      "cell_type": "code",
      "source": [
        "\n",
        "data.isnull().sum()"
      ],
      "metadata": {
        "colab": {
          "base_uri": "https://localhost:8080/"
        },
        "id": "91J-7j027ebL",
        "outputId": "9de02865-7813-4ae4-fac8-c901edb23ef8"
      },
      "execution_count": 62,
      "outputs": [
        {
          "output_type": "execute_result",
          "data": {
            "text/plain": [
              "AtBat       0\n",
              "Hits        0\n",
              "HmRun       0\n",
              "Runs        0\n",
              "RBI         0\n",
              "Walks       0\n",
              "Years       0\n",
              "CAtBat      0\n",
              "CHits       0\n",
              "CHmRun      0\n",
              "CRuns       0\n",
              "CRBI        0\n",
              "CWalks      0\n",
              "PutOuts     0\n",
              "Assists     0\n",
              "Errors      0\n",
              "Salary     59\n",
              "dtype: int64"
            ]
          },
          "metadata": {},
          "execution_count": 62
        }
      ]
    },
    {
      "cell_type": "code",
      "source": [
        "data.dropna(inplace= True)"
      ],
      "metadata": {
        "id": "XqnYlBEVl9JD"
      },
      "execution_count": 63,
      "outputs": []
    },
    {
      "cell_type": "code",
      "source": [
        "data.shape\n"
      ],
      "metadata": {
        "colab": {
          "base_uri": "https://localhost:8080/"
        },
        "id": "1HhqZG0x-PMV",
        "outputId": "368db1c5-601f-4977-f869-6ba93c30c837"
      },
      "execution_count": 64,
      "outputs": [
        {
          "output_type": "execute_result",
          "data": {
            "text/plain": [
              "(263, 17)"
            ]
          },
          "metadata": {},
          "execution_count": 64
        }
      ]
    },
    {
      "cell_type": "code",
      "source": [
        "X = data['Salary']\n",
        "X.dropna()\n",
        "X"
      ],
      "metadata": {
        "colab": {
          "base_uri": "https://localhost:8080/"
        },
        "id": "ZOte8AMjmxpv",
        "outputId": "e492b883-76c9-4613-ef1b-7faead06e200"
      },
      "execution_count": 65,
      "outputs": [
        {
          "output_type": "execute_result",
          "data": {
            "text/plain": [
              "1       475.0\n",
              "2       480.0\n",
              "3       500.0\n",
              "4        91.5\n",
              "5       750.0\n",
              "        ...  \n",
              "317     700.0\n",
              "318     875.0\n",
              "319     385.0\n",
              "320     960.0\n",
              "321    1000.0\n",
              "Name: Salary, Length: 263, dtype: float64"
            ]
          },
          "metadata": {},
          "execution_count": 65
        }
      ]
    },
    {
      "cell_type": "code",
      "source": [
        "X"
      ],
      "metadata": {
        "colab": {
          "base_uri": "https://localhost:8080/"
        },
        "id": "RU8YS1yqtq3c",
        "outputId": "5ae02eea-914e-42bc-c60f-f7be54333979"
      },
      "execution_count": 66,
      "outputs": [
        {
          "output_type": "execute_result",
          "data": {
            "text/plain": [
              "1       475.0\n",
              "2       480.0\n",
              "3       500.0\n",
              "4        91.5\n",
              "5       750.0\n",
              "        ...  \n",
              "317     700.0\n",
              "318     875.0\n",
              "319     385.0\n",
              "320     960.0\n",
              "321    1000.0\n",
              "Name: Salary, Length: 263, dtype: float64"
            ]
          },
          "metadata": {},
          "execution_count": 66
        }
      ]
    },
    {
      "cell_type": "code",
      "source": [
        "newX=data.drop('Salary',axis=1)\n",
        "print(newX[0:3]) # check\n",
        "newY=data['Salary']"
      ],
      "metadata": {
        "colab": {
          "base_uri": "https://localhost:8080/"
        },
        "id": "dE8V4NWzi3cq",
        "outputId": "9e548eb7-795d-468e-c4fe-4397dd3d1e24"
      },
      "execution_count": 67,
      "outputs": [
        {
          "output_type": "stream",
          "name": "stdout",
          "text": [
            "   AtBat  Hits  HmRun  Runs  RBI  Walks  Years  CAtBat  CHits  CHmRun  CRuns  \\\n",
            "1    315    81      7    24   38     39     14    3449    835      69    321   \n",
            "2    479   130     18    66   72     76      3    1624    457      63    224   \n",
            "3    496   141     20    65   78     37     11    5628   1575     225    828   \n",
            "\n",
            "   CRBI  CWalks  PutOuts  Assists  Errors  \n",
            "1   414     375      632       43      10  \n",
            "2   266     263      880       82      14  \n",
            "3   838     354      200       11       3  \n"
          ]
        }
      ]
    },
    {
      "cell_type": "code",
      "source": [
        "X_train,X_test,y_train,y_test=train_test_split(newX,newY,test_size=0.25,random_state=1)\n",
        "print(len(X_test), len(y_test))\n"
      ],
      "metadata": {
        "colab": {
          "base_uri": "https://localhost:8080/"
        },
        "id": "4X-gl_Yhi52F",
        "outputId": "4d127a6d-58f6-4899-bdff-b304d791a24a"
      },
      "execution_count": 68,
      "outputs": [
        {
          "output_type": "stream",
          "name": "stdout",
          "text": [
            "66 66\n"
          ]
        }
      ]
    },
    {
      "cell_type": "markdown",
      "source": [
        "Step 3:\n",
        "- Use ‘lr’ as the ‘LinearRegression()’ and ‘rr’ as the ‘Ridge()’ models. Set alpha at 0.01 \n",
        "and alpha at 100 for the Ridge model.\n",
        "- Fit the train models with ‘lr’ and ‘rr’.\n",
        "- Compute the scores for the ‘lr’ and ‘rr’ models."
      ],
      "metadata": {
        "id": "tLYEcI0Ojt0W"
      }
    },
    {
      "cell_type": "code",
      "source": [
        "lr = LinearRegression()\n",
        "lr.fit(X_train, y_train)\n",
        "\n",
        "rr = Ridge(alpha=0.01) # higher the alpha value, more restriction on the coefficients; low alpha > more generalization\n",
        "# restricted and in this case linear and ridge regression resembles\n",
        "rr.fit(X_train, y_train)\n",
        "rr100 = Ridge(alpha=100) # comparison with alpha value\n",
        "rr100.fit(X_train, y_train)\n",
        "train_score=lr.score(X_train, y_train)\n",
        "test_score=lr.score(X_test, y_test)\n",
        "Ridge_train_score = rr.score(X_train,y_train)\n",
        "Ridge_test_score = rr.score(X_test, y_test)\n",
        "Ridge_train_score100 = rr100.score(X_train,y_train)\n",
        "Ridge_test_score100 = rr100.score(X_test, y_test)\n",
        "print( \"linear regression train score:\", train_score)\n",
        "print(\"linear regression test score:\", test_score)\n",
        "print(\"ridge regression train score low alpha:\", Ridge_train_score)\n",
        "print(\"ridge regression test score low alpha:\", Ridge_test_score)\n",
        "print(\"ridge regression train score high alpha:\", Ridge_train_score100)\n",
        "print(\"ridge regression test score high alpha:\", Ridge_test_score100)"
      ],
      "metadata": {
        "colab": {
          "base_uri": "https://localhost:8080/"
        },
        "id": "_f6RxuhhjEXj",
        "outputId": "f5e1e3f2-f95d-464e-f1b3-5490262e16aa"
      },
      "execution_count": 69,
      "outputs": [
        {
          "output_type": "stream",
          "name": "stdout",
          "text": [
            "linear regression train score: 0.5520895361944755\n",
            "linear regression test score: 0.36411062972954944\n",
            "ridge regression train score low alpha: 0.5520895361943718\n",
            "ridge regression test score low alpha: 0.364110817253695\n",
            "ridge regression train score high alpha: 0.552080736912711\n",
            "ridge regression test score high alpha: 0.3658702666462327\n"
          ]
        }
      ]
    },
    {
      "cell_type": "markdown",
      "source": [
        "Step 4:\n",
        "- Compare with the test dataset. \n",
        "-I s there any difference between the Ridge models with a lower and a higher alpha?\n",
        "- Plot the ‘Coefficient Magnitude’ as y and the ‘Coefficient Index’ as X on a graph. Show \n",
        "the results for alpha = 0.01 and alpha = 100, together with the Linear Regression model \n",
        "coefficients."
      ],
      "metadata": {
        "id": "FLKVUXShmGfx"
      }
    },
    {
      "cell_type": "code",
      "source": [
        "plt.plot(rr.coef_,alpha=0.7,linestyle='none',marker='*',markersize=5,color='red',label=r'Ridge; $\\alpha = 0.01$',zorder=7) # zorder for ordering the markers\n",
        "plt.plot(rr100.coef_,alpha=0.5,linestyle='none',marker='d',markersize=6,color='blue',label=r'Ridge; $\\alpha = 100$') # alpha here is for transparency\n",
        "plt.plot(lr.coef_,alpha=0.4,linestyle='none',marker='o',markersize=7,color='green',label='Linear Regression')\n",
        "plt.xlabel('Coefficient Index',fontsize=16)\n",
        "plt.ylabel('Coefficient Magnitude',fontsize=16)\n",
        "plt.legend(fontsize=13,loc=4)\n",
        "plt.show()"
      ],
      "metadata": {
        "colab": {
          "base_uri": "https://localhost:8080/",
          "height": 366
        },
        "id": "vr2SdWK_mINw",
        "outputId": "acf4ecef-369d-437d-a873-ecbe02287de9"
      },
      "execution_count": 70,
      "outputs": [
        {
          "output_type": "display_data",
          "data": {
            "text/plain": [
              "<Figure size 576x396 with 1 Axes>"
            ],
            "image/png": "[encoded data removed]"
          },
          "metadata": {}
        }
      ]
    },
    {
      "cell_type": "markdown",
      "source": [
        "Higher the alpha value more restriction on the coefficient."
      ],
      "metadata": {
        "id": "lvzVFpIGv3H7"
      }
    },
    {
      "cell_type": "code",
      "source": [
        "from sklearn.linear_model import LassoCV"
      ],
      "metadata": {
        "id": "BgyIYMNVmQWl"
      },
      "execution_count": 71,
      "outputs": []
    },
    {
      "cell_type": "markdown",
      "source": [
        "Use the LassoCV algorithm to find the optimal alpha value using cross-validation\n",
        "= 10 with max_iter=100000\n",
        "- Provide the alpha value of the LassoCV model (tuned model)\n",
        "- Provide the prediction and mean squared error of the tuned model\n",
        "- What are the tuned model coefficients? What variables were not used in the \n",
        "model and why"
      ],
      "metadata": {
        "id": "79YS1hb9Ri9J"
      }
    },
    {
      "cell_type": "code",
      "source": [
        "from sklearn import metrics\n",
        "import numpy as np\n",
        "\n",
        "lm = LinearRegression()\n",
        "lm.fit(X_train,y_train)\n",
        "#predictions on train data\n",
        "x_pred = lm.predict(X_train)\n",
        "x_pred = x_pred.reshape(-1,1)\n",
        "#Prediction of validation data\n",
        "y_predictions = lm.predict(X_test)\n",
        "y_predictions= y_predictions.reshape(-1,1)\n",
        "def scores_(y,x):\n",
        "  print('MAE:', metrics.mean_absolute_error(y, x))\n",
        "  print('MSE:', metrics.mean_squared_error(y, x))\n",
        "  print('RMSE:', np.sqrt(metrics.mean_squared_error(y, x)))\n",
        "  print('R2 Score:' ,metrics.r2_score(y,x))\n",
        "  print('InSample_accuracy')\n",
        "scores_(y_train, x_pred)\n",
        "print('---------------------------')\n",
        "print('OutSample_accuracy')\n",
        "\n",
        "scores_(y_test,y_predictions  )"
      ],
      "metadata": {
        "colab": {
          "base_uri": "https://localhost:8080/"
        },
        "id": "d6a58j_ZKofS",
        "outputId": "045fa6fc-3d4d-45e9-aadd-a2807184674d"
      },
      "execution_count": 72,
      "outputs": [
        {
          "output_type": "stream",
          "name": "stdout",
          "text": [
            "MAE: 206.97301347041605\n",
            "MSE: 87651.19099251284\n",
            "RMSE: 296.0594382763584\n",
            "R2 Score: 0.5520895361944755\n",
            "InSample_accuracy\n",
            "---------------------------\n",
            "OutSample_accuracy\n",
            "MAE: 273.32998709680646\n",
            "MSE: 142206.1659204885\n",
            "RMSE: 377.10232818227007\n",
            "R2 Score: 0.36411062972954944\n",
            "InSample_accuracy\n"
          ]
        }
      ]
    },
    {
      "cell_type": "code",
      "source": [
        "import numpy as np\n",
        "import matplotlib.pyplot as plt\n",
        "\n",
        "alphas = np.linspace(0.01,500,100)\n",
        "lasso = Lasso(max_iter=10000)\n",
        "coefs = []\n",
        "\n",
        "for a in alphas:\n",
        "    lasso.set_params(alpha=a)\n",
        "    lasso.fit(X_train, y_train)\n",
        "    coefs.append(lasso.coef_)\n",
        "\n",
        "ax = plt.gca()\n",
        "\n",
        "ax.plot(alphas, coefs)\n",
        "ax.set_xscale('log')\n",
        "plt.axis('tight')\n",
        "plt.xlabel('alpha')\n",
        "plt.ylabel('Standardized Coefficients')\n",
        "plt.title('Lasso coefficients as a function of alpha');"
      ],
      "metadata": {
        "colab": {
          "base_uri": "https://localhost:8080/",
          "height": 380
        },
        "id": "9z8Vf8CAPVCr",
        "outputId": "5a0b5fbb-dde7-4bfd-d0be-83b5c95c39b8"
      },
      "execution_count": 73,
      "outputs": [
        {
          "output_type": "display_data",
          "data": {
            "text/plain": [
              "<Figure size 576x396 with 1 Axes>"
            ],
            "image/png": "[encoded data removed]"
          },
          "metadata": {}
        }
      ]
    },
    {
      "cell_type": "markdown",
      "source": [
        "## Lasso with optimal alpha\n",
        "- To find the optimal value of alpha, we use scikit learns lasso linear model with iterative fitting along a regularization path (LassoCV). The best model is selected by cross-validation.\n",
        "\n",
        "k-fold cross validation"
      ],
      "metadata": {
        "id": "_64FrT0NRHie"
      }
    },
    {
      "cell_type": "code",
      "source": [
        "\n",
        "from sklearn.linear_model import LassoCV\n",
        "\n",
        "# Lasso with 5 fold cross-validation\n",
        "model = LassoCV(cv=5, random_state=0, max_iter=10000)\n",
        "\n",
        "# Fit model\n",
        "model.fit(X_train, y_train)"
      ],
      "metadata": {
        "colab": {
          "base_uri": "https://localhost:8080/"
        },
        "id": "WFXtpkvUQ8rg",
        "outputId": "1d25923b-7a00-4956-bd5f-05c9a8416180"
      },
      "execution_count": 74,
      "outputs": [
        {
          "output_type": "execute_result",
          "data": {
            "text/plain": [
              "LassoCV(cv=5, max_iter=10000, random_state=0)"
            ]
          },
          "metadata": {},
          "execution_count": 74
        }
      ]
    },
    {
      "cell_type": "markdown",
      "source": [
        "The coefficient for a term represents the change in the mean response associated with a change in that term"
      ],
      "metadata": {
        "id": "Rq4JFQKzSSU1"
      }
    },
    {
      "cell_type": "code",
      "source": [
        "model.alpha_\n"
      ],
      "metadata": {
        "colab": {
          "base_uri": "https://localhost:8080/"
        },
        "id": "b4CiCwAMSUSN",
        "outputId": "0800283b-187a-48f1-f472-ce02ee15eac9"
      },
      "execution_count": 75,
      "outputs": [
        {
          "output_type": "execute_result",
          "data": {
            "text/plain": [
              "520.5910336949936"
            ]
          },
          "metadata": {},
          "execution_count": 75
        }
      ]
    },
    {
      "cell_type": "code",
      "source": [
        "# Set best alpha\n",
        "lasso_best = Lasso(alpha=model.alpha_)\n",
        "lasso_best.fit(X_train, y_train)\n"
      ],
      "metadata": {
        "colab": {
          "base_uri": "https://localhost:8080/"
        },
        "id": "h0Mls1g9bJh9",
        "outputId": "5ce71b33-1a91-4430-bcdd-e81c79a551d7"
      },
      "execution_count": 76,
      "outputs": [
        {
          "output_type": "execute_result",
          "data": {
            "text/plain": [
              "Lasso(alpha=520.5910336949936)"
            ]
          },
          "metadata": {},
          "execution_count": 76
        }
      ]
    },
    {
      "cell_type": "code",
      "source": [
        "print(list(zip(lasso_best.coef_, X)))\n"
      ],
      "metadata": {
        "colab": {
          "base_uri": "https://localhost:8080/"
        },
        "id": "DXmnqe_WbS1h",
        "outputId": "0a020023-d9b4-457b-e29b-efaf4ad48050"
      },
      "execution_count": 77,
      "outputs": [
        {
          "output_type": "stream",
          "name": "stdout",
          "text": [
            "[(-0.0, 475.0), (1.614163444604025, 480.0), (0.0, 500.0), (0.0, 91.5), (0.0, 750.0), (0.5964590825918805, 70.0), (0.0, 100.0), (-0.38733855982707815, 75.0), (1.1419021844672252, 1100.0), (0.5198384071130577, 517.143), (0.30626655307480083, 512.5), (0.6434119079224992, 550.0), (0.0, 700.0), (0.3245315840781221, 240.0), (0.05519968440012962, 775.0), (0.0, 175.0)]\n"
          ]
        }
      ]
    },
    {
      "cell_type": "code",
      "source": [
        "print('R squared training set', round(lasso_best.score(X_train, y_train)*100, 2))\n",
        "print('R squared test set', round(lasso_best.score(X_test, y_test)*100, 2))"
      ],
      "metadata": {
        "colab": {
          "base_uri": "https://localhost:8080/"
        },
        "id": "ZoudyuNGbUIu",
        "outputId": "f8b5aed5-bae7-4469-c6f7-30cb04229d4a"
      },
      "execution_count": 78,
      "outputs": [
        {
          "output_type": "stream",
          "name": "stdout",
          "text": [
            "R squared training set 51.53\n",
            "R squared test set 38.75\n"
          ]
        }
      ]
    },
    {
      "cell_type": "code",
      "source": [
        "mean_squared_error(y_test, lasso_best.predict(X_test))\n"
      ],
      "metadata": {
        "colab": {
          "base_uri": "https://localhost:8080/"
        },
        "id": "CvDUWOwmbcK3",
        "outputId": "f9a413e1-aaab-4a84-b31a-1be953f344e8"
      },
      "execution_count": 79,
      "outputs": [
        {
          "output_type": "execute_result",
          "data": {
            "text/plain": [
              "136978.70925812752"
            ]
          },
          "metadata": {},
          "execution_count": 79
        }
      ]
    },
    {
      "cell_type": "code",
      "source": [
        "plt.semilogx(model.alphas_, model.mse_path_, \":\")\n",
        "plt.plot(\n",
        "    model.alphas_ ,\n",
        "    model.mse_path_.mean(axis=-1),\n",
        "    \"k\",\n",
        "    label=\"Average across the folds\",\n",
        "    linewidth=2,\n",
        ")\n",
        "plt.axvline(\n",
        "    model.alpha_, linestyle=\"--\", color=\"k\", label=\"alpha: CV estimate\"\n",
        ")\n",
        "\n",
        "plt.legend()\n",
        "plt.xlabel(\"alphas\")\n",
        "plt.ylabel(\"Mean square error\")\n",
        "plt.title(\"Mean square error on each fold\")\n",
        "plt.axis(\"tight\")\n",
        "\n",
        "ymin, ymax = 50000, 250000\n",
        "plt.ylim(ymin, ymax);"
      ],
      "metadata": {
        "colab": {
          "base_uri": "https://localhost:8080/",
          "height": 380
        },
        "id": "QFG2gY-zbip5",
        "outputId": "8ff99379-398a-4299-8e33-08ab754f480a"
      },
      "execution_count": 80,
      "outputs": [
        {
          "output_type": "display_data",
          "data": {
            "text/plain": [
              "<Figure size 576x396 with 1 Axes>"
            ],
            "image/png": "[encoded data removed]"
          },
          "metadata": {}
        }
      ]
    },
    {
      "cell_type": "code",
      "source": [
        "from sklearn.linear_model import Ridge, RidgeCV, Lasso, LassoCV\n",
        "from sklearn.metrics import mean_squared_error\n",
        "\n",
        "alphas = 10**np.linspace(10,-2,100)*0.5\n",
        "alphas\n",
        "lassocv = LassoCV(alphas = alphas, cv = 10, max_iter = 100000, normalize = True)\n",
        "lassocv.fit(X_train, y_train)\n",
        "\n",
        "lasso.set_params(alpha=lassocv.alpha_)\n",
        "lasso.fit(X_train, y_train)\n",
        "mean_squared_error(y_test, lasso.predict(X_test))\n"
      ],
      "metadata": {
        "colab": {
          "base_uri": "https://localhost:8080/"
        },
        "id": "jhA6sco-NEcK",
        "outputId": "d77da254-1ca1-46a4-81de-ad38270264bb"
      },
      "execution_count": 81,
      "outputs": [
        {
          "output_type": "stream",
          "name": "stderr",
          "text": [
            "/usr/local/lib/python3.7/dist-packages/sklearn/linear_model/_base.py:145: FutureWarning: 'normalize' was deprecated in version 1.0 and will be removed in 1.2.\n",
            "If you wish to scale the data, use Pipeline with a StandardScaler in a preprocessing stage. To reproduce the previous behavior:\n",
            "\n",
            "from sklearn.pipeline import make_pipeline\n",
            "\n",
            "model = make_pipeline(StandardScaler(with_mean=False), Lasso())\n",
            "\n",
            "If you wish to pass a sample_weight parameter, you need to pass it as a fit parameter to each step of the pipeline as follows:\n",
            "\n",
            "kwargs = {s[0] + '__sample_weight': sample_weight for s in model.steps}\n",
            "model.fit(X, y, **kwargs)\n",
            "\n",
            "Set parameter alpha to: original_alpha * np.sqrt(n_samples). \n",
            "  FutureWarning,\n"
          ]
        },
        {
          "output_type": "execute_result",
          "data": {
            "text/plain": [
              "142174.58412870468"
            ]
          },
          "metadata": {},
          "execution_count": 81
        }
      ]
    },
    {
      "cell_type": "code",
      "source": [
        ""
      ],
      "metadata": {
        "id": "JguSk_YBam2w"
      },
      "execution_count": 81,
      "outputs": []
    },
    {
      "cell_type": "code",
      "source": [
        ""
      ],
      "metadata": {
        "id": "RtXVbTd7anKb"
      },
      "execution_count": 81,
      "outputs": []
    }
  ]
}