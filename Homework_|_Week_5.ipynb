{
  "nbformat": 4,
  "nbformat_minor": 0,
  "metadata": {
    "colab": {
      "name": "Homework | Week 5.ipynb",
      "provenance": [],
      "authorship_tag": "ABX9TyP4ZRxQ13IbwCxgJ3BzZFhV",
      "include_colab_link": true
    },
    "kernelspec": {
      "name": "python3",
      "display_name": "Python 3"
    },
    "language_info": {
      "name": "python"
    }
  },
  "cells": [
    {
      "cell_type": "markdown",
      "metadata": {
        "id": "view-in-github",
        "colab_type": "text"
      },
      "source": [
        "<a href=\"https://colab.research.google.com/github/epic-coder97/Data-602/blob/main/Homework_%7C_Week_5.ipynb\" target=\"_parent\"><img src=\"https://colab.research.google.com/assets/colab-badge.svg\" alt=\"Open In Colab\"/></a>"
      ]
    },
    {
      "cell_type": "markdown",
      "source": [
        "## Week 5 Homework Data 602\n",
        "*Nikita Dharmadhikari*\n",
        "\n",
        "\n",
        "---\n",
        "Step 1: \n",
        "- Import key libraries.\n",
        "- Use ‘matplotlib.rcParams.update({'font.size': 12})’.\n",
        "- Use the Boston dataset from sklearn.datasets.\n",
        "- Load the LinearRegression and Ridge libraries"
      ],
      "metadata": {
        "id": "HpJIw0FUecqS"
      }
    },
    {
      "cell_type": "code",
      "execution_count": 8,
      "metadata": {
        "id": "uV5qyJ2vkkhd"
      },
      "outputs": [],
      "source": [
        "import matplotlib.pyplot as plt\n",
        "plt.rcParams.update({'font.size': 22})\n",
        "from sklearn.datasets import load_boston\n",
        "from sklearn.linear_model import LinearRegression\n",
        "from sklearn.linear_model import Ridge\n",
        "import pandas as pd\n",
        "from sklearn.model_selection import train_test_split"
      ]
    },
    {
      "cell_type": "markdown",
      "source": [
        "Step 2 \n",
        "- Load the dataset\n",
        "- Use ‘Price’ as the target and drop ‘Price’ from the ‘newX’ variable. Check if ‘newX’ is \n",
        "properly coded.\n",
        "- Split the dataset into train and test (30%)."
      ],
      "metadata": {
        "id": "X-NXRby9iLKI"
      }
    },
    {
      "cell_type": "code",
      "source": [
        "boston=load_boston()\n",
        "boston_df=pd.DataFrame(boston.data,columns=boston.feature_names)\n",
        "#print boston_df.info()\n",
        "# add another column that contains the house prices which in scikit learn datasets are considered as target\n",
        "boston_df['Price']=boston.target"
      ],
      "metadata": {
        "colab": {
          "base_uri": "https://localhost:8080/"
        },
        "id": "QKcj9vFue0jG",
        "outputId": "ef0d7b05-7de0-42ef-cecf-ca83ef57009f"
      },
      "execution_count": 5,
      "outputs": [
        {
          "output_type": "stream",
          "name": "stderr",
          "text": [
            "/usr/local/lib/python3.7/dist-packages/sklearn/utils/deprecation.py:87: FutureWarning: Function load_boston is deprecated; `load_boston` is deprecated in 1.0 and will be removed in 1.2.\n",
            "\n",
            "    The Boston housing prices dataset has an ethical problem. You can refer to\n",
            "    the documentation of this function for further details.\n",
            "\n",
            "    The scikit-learn maintainers therefore strongly discourage the use of this\n",
            "    dataset unless the purpose of the code is to study and educate about\n",
            "    ethical issues in data science and machine learning.\n",
            "\n",
            "    In this special case, you can fetch the dataset from the original\n",
            "    source::\n",
            "\n",
            "        import pandas as pd\n",
            "        import numpy as np\n",
            "\n",
            "\n",
            "        data_url = \"http://lib.stat.cmu.edu/datasets/boston\"\n",
            "        raw_df = pd.read_csv(data_url, sep=\"\\s+\", skiprows=22, header=None)\n",
            "        data = np.hstack([raw_df.values[::2, :], raw_df.values[1::2, :2]])\n",
            "        target = raw_df.values[1::2, 2]\n",
            "\n",
            "    Alternative datasets include the California housing dataset (i.e.\n",
            "    :func:`~sklearn.datasets.fetch_california_housing`) and the Ames housing\n",
            "    dataset. You can load the datasets as follows::\n",
            "\n",
            "        from sklearn.datasets import fetch_california_housing\n",
            "        housing = fetch_california_housing()\n",
            "\n",
            "    for the California housing dataset and::\n",
            "\n",
            "        from sklearn.datasets import fetch_openml\n",
            "        housing = fetch_openml(name=\"house_prices\", as_frame=True)\n",
            "\n",
            "    for the Ames housing dataset.\n",
            "    \n",
            "  warnings.warn(msg, category=FutureWarning)\n"
          ]
        }
      ]
    },
    {
      "cell_type": "code",
      "source": [
        "newX=boston_df.drop('Price',axis=1)\n",
        "print(newX[0:3]) # check\n",
        "newY=boston_df['Price']"
      ],
      "metadata": {
        "colab": {
          "base_uri": "https://localhost:8080/"
        },
        "id": "dE8V4NWzi3cq",
        "outputId": "c4a6925c-9eda-4961-f544-94865d8c7180"
      },
      "execution_count": 6,
      "outputs": [
        {
          "output_type": "stream",
          "name": "stdout",
          "text": [
            "      CRIM    ZN  INDUS  CHAS    NOX     RM   AGE     DIS  RAD    TAX  \\\n",
            "0  0.00632  18.0   2.31   0.0  0.538  6.575  65.2  4.0900  1.0  296.0   \n",
            "1  0.02731   0.0   7.07   0.0  0.469  6.421  78.9  4.9671  2.0  242.0   \n",
            "2  0.02729   0.0   7.07   0.0  0.469  7.185  61.1  4.9671  2.0  242.0   \n",
            "\n",
            "   PTRATIO       B  LSTAT  \n",
            "0     15.3  396.90   4.98  \n",
            "1     17.8  396.90   9.14  \n",
            "2     17.8  392.83   4.03  \n"
          ]
        }
      ]
    },
    {
      "cell_type": "code",
      "source": [
        "X_train,X_test,y_train,y_test=train_test_split(newX,newY,test_size=0.3,random_state=3)\n",
        "print(len(X_test), len(y_test))\n"
      ],
      "metadata": {
        "colab": {
          "base_uri": "https://localhost:8080/"
        },
        "id": "4X-gl_Yhi52F",
        "outputId": "9699d574-6d58-4cd0-b32e-c1f9ee82107f"
      },
      "execution_count": 9,
      "outputs": [
        {
          "output_type": "stream",
          "name": "stdout",
          "text": [
            "152 152\n"
          ]
        },
        {
          "output_type": "execute_result",
          "data": {
            "text/plain": [
              "LinearRegression()"
            ]
          },
          "metadata": {},
          "execution_count": 9
        }
      ]
    },
    {
      "cell_type": "markdown",
      "source": [
        "Step 3:\n",
        "- Use ‘lr’ as the ‘LinearRegression()’ and ‘rr’ as the ‘Ridge()’ models. Set alpha at 0.01 \n",
        "and alpha at 100 for the Ridge model.\n",
        "- Fit the train models with ‘lr’ and ‘rr’.\n",
        "- Compute the scores for the ‘lr’ and ‘rr’ models."
      ],
      "metadata": {
        "id": "tLYEcI0Ojt0W"
      }
    },
    {
      "cell_type": "code",
      "source": [
        "lr = LinearRegression()\n",
        "lr.fit(X_train, y_train)\n",
        "\n",
        "rr = Ridge(alpha=0.01) # higher the alpha value, more restriction on the coefficients; low alpha > more generalization\n",
        "# restricted and in this case linear and ridge regression resembles\n",
        "rr.fit(X_train, y_train)\n",
        "rr100 = Ridge(alpha=100) # comparison with alpha value\n",
        "rr100.fit(X_train, y_train)\n",
        "train_score=lr.score(X_train, y_train)\n",
        "test_score=lr.score(X_test, y_test)\n",
        "Ridge_train_score = rr.score(X_train,y_train)\n",
        "Ridge_test_score = rr.score(X_test, y_test)\n",
        "Ridge_train_score100 = rr100.score(X_train,y_train)\n",
        "Ridge_test_score100 = rr100.score(X_test, y_test)\n",
        "print( \"linear regression train score:\", train_score)\n",
        "print(\"linear regression test score:\", test_score)\n",
        "print(\"ridge regression train score low alpha:\", Ridge_train_score)\n",
        "print(\"ridge regression test score low alpha:\", Ridge_test_score)\n",
        "print(\"ridge regression train score high alpha:\", Ridge_train_score100)\n",
        "print(\"ridge regression test score high alpha:\", Ridge_test_score100)"
      ],
      "metadata": {
        "colab": {
          "base_uri": "https://localhost:8080/"
        },
        "id": "_f6RxuhhjEXj",
        "outputId": "98b2f932-9850-43e7-f7fa-7dabedd23644"
      },
      "execution_count": 11,
      "outputs": [
        {
          "output_type": "stream",
          "name": "stdout",
          "text": [
            "linear regression train score: 0.7419034960343789\n",
            "linear regression test score: 0.7147895265576851\n",
            "ridge regression train score low alpha: 0.7419030253527293\n",
            "ridge regression test score low alpha: 0.7146125373123908\n",
            "ridge regression train score high alpha: 0.7172809669938278\n",
            "ridge regression test score high alpha: 0.6805765856921935\n"
          ]
        }
      ]
    },
    {
      "cell_type": "markdown",
      "source": [
        "Step 4:\n",
        "- Compare with the test dataset. \n",
        "-I s there any difference between the Ridge models with a lower and a higher alpha?\n",
        "- Plot the ‘Coefficient Magnitude’ as y and the ‘Coefficient Index’ as X on a graph. Show \n",
        "the results for alpha = 0.01 and alpha = 100, together with the Linear Regression model \n",
        "coefficients."
      ],
      "metadata": {
        "id": "FLKVUXShmGfx"
      }
    },
    {
      "cell_type": "code",
      "source": [
        "plt.plot(rr.coef_,alpha=0.7,linestyle='none',marker='*',markersize=5,color='red',label=r'Ridge; $\\alpha = 0.01$',zorder=7) # zorder for ordering the markers\n",
        "plt.plot(rr100.coef_,alpha=0.5,linestyle='none',marker='d',markersize=6,color='blue',label=r'Ridge; $\\alpha = 100$') # alpha here is for transparency\n",
        "plt.plot(lr.coef_,alpha=0.4,linestyle='none',marker='o',markersize=7,color='green',label='Linear Regression')\n",
        "plt.xlabel('Coefficient Index',fontsize=16)\n",
        "plt.ylabel('Coefficient Magnitude',fontsize=16)\n",
        "plt.legend(fontsize=13,loc=4)\n",
        "plt.show()"
      ],
      "metadata": {
        "colab": {
          "base_uri": "https://localhost:8080/",
          "height": 294
        },
        "id": "vr2SdWK_mINw",
        "outputId": "2050ef3c-f6d8-4194-d8e6-61b214bff6a2"
      },
      "execution_count": 15,
      "outputs": [
        {
          "output_type": "display_data",
          "data": {
            "image/png": "[encoded data removed]",
            "text/plain": [
              "<Figure size 432x288 with 1 Axes>"
            ]
          },
          "metadata": {
            "needs_background": "light"
          }
        }
      ]
    },
    {
      "cell_type": "markdown",
      "source": [
        "Higher the alpha value more restriction on the coefficient."
      ],
      "metadata": {
        "id": "lvzVFpIGv3H7"
      }
    },
    {
      "cell_type": "code",
      "source": [
        ""
      ],
      "metadata": {
        "id": "BgyIYMNVmQWl"
      },
      "execution_count": null,
      "outputs": []
    }
  ]
}